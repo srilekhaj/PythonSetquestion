{
 "cells": [
  {
   "cell_type": "markdown",
   "id": "85591839-f79f-477b-86d4-71136e32269f",
   "metadata": {},
   "source": [
    "SET - 1"
   ]
  },
  {
   "cell_type": "markdown",
   "id": "a3c82725-0227-4039-ac1d-d2888331533c",
   "metadata": {},
   "source": [
    "1.\tScenario: A system checks if a user is eligible to vote based on their age.\n",
    " Write logic to ask the user for their age and determine if they are eligible to vote based on whether they are 18 or older."
   ]
  },
  {
   "cell_type": "code",
   "execution_count": null,
   "id": "d5891042-510d-4d9a-8a57-eb47b297ba0a",
   "metadata": {},
   "outputs": [],
   "source": [
    "age_input = int(input(\"Enter the Age: \"))\n",
    "if age_input>=18:\n",
    "    print(\"Eligible to vote\")\n",
    "else:\n",
    "    print(\"Not eligible to vote\")"
   ]
  },
  {
   "cell_type": "markdown",
   "id": "6f4bd514-95d2-4969-ab9c-77449eda085d",
   "metadata": {},
   "source": [
    "2.\tScenario: A program processes a list of numbers and needs to find the largest value.\n",
    " Write logic to identify and return the largest number from a given list."
   ]
  },
  {
   "cell_type": "code",
   "execution_count": 1,
   "id": "22c0df20-e10c-4bcb-a46f-be5fad51394d",
   "metadata": {},
   "outputs": [
    {
     "data": {
      "text/plain": [
       "99"
      ]
     },
     "execution_count": 1,
     "metadata": {},
     "output_type": "execute_result"
    }
   ],
   "source": [
    "num_lst = [41,13,89,62, 50, 38, 99, 17]\n",
    "max(num_lst)"
   ]
  },
  {
   "cell_type": "code",
   "execution_count": 8,
   "id": "4559142b-f8c7-4dd8-be8b-faf2a9c98d0b",
   "metadata": {},
   "outputs": [
    {
     "name": "stdout",
     "output_type": "stream",
     "text": [
      "[99, 89, 62, 50, 41, 38, 17, 13]\n"
     ]
    },
    {
     "data": {
      "text/plain": [
       "99"
      ]
     },
     "execution_count": 8,
     "metadata": {},
     "output_type": "execute_result"
    }
   ],
   "source": [
    "num_lst = [41,13,89,62, 50, 38, 99, 17]\n",
    "num_lst = sorted(num_lst, reverse=True)\n",
    "print(num_lst)\n",
    "num_lst[0]"
   ]
  },
  {
   "cell_type": "code",
   "execution_count": 45,
   "id": "46e10aee-cc08-45ab-baa3-440aa3cde0da",
   "metadata": {},
   "outputs": [
    {
     "name": "stdout",
     "output_type": "stream",
     "text": [
      "99\n"
     ]
    }
   ],
   "source": [
    "num_lst = [41,13,89,62, 50, 38, 99, 17]\n",
    "max_value = num_lst[0]\n",
    "for each_num in num_lst:\n",
    "    if each_num > max_value:\n",
    "        max_value = each_num\n",
    "print(max_value)"
   ]
  },
  {
   "cell_type": "markdown",
   "id": "22289a4d-41c1-410a-91bc-2585061d3af6",
   "metadata": {},
   "source": [
    "3.\tScenario: A company provides employees with a 10% bonus if their salary exceeds $50,000.\n",
    " Write logic to determine the bonus amount based on the given salary."
   ]
  },
  {
   "cell_type": "code",
   "execution_count": 17,
   "id": "e014df74-b142-4971-9bac-eb809b8745aa",
   "metadata": {},
   "outputs": [
    {
     "data": {
      "text/plain": [
       "5000.0"
      ]
     },
     "execution_count": 17,
     "metadata": {},
     "output_type": "execute_result"
    }
   ],
   "source": [
    "salary = 50000\n",
    "bonus = 10\n",
    "total_salary = salary * (bonus/100)\n",
    "print(f\"The bonus amount based on the given salary.\", total_salary)"
   ]
  },
  {
   "cell_type": "markdown",
   "id": "83987364-d3fe-42aa-8760-a2f5dc5d8e9a",
   "metadata": {},
   "source": [
    "4.\tScenario: A program evaluates a number to determine if it is even or odd.\n",
    " Write logic to check whether a given number is even or odd."
   ]
  },
  {
   "cell_type": "code",
   "execution_count": 18,
   "id": "41059c6a-9093-428b-bc2c-240d6c33c22f",
   "metadata": {},
   "outputs": [
    {
     "name": "stdin",
     "output_type": "stream",
     "text": [
      "Enter the number 32\n"
     ]
    },
    {
     "name": "stdout",
     "output_type": "stream",
     "text": [
      "32 is even\n"
     ]
    }
   ],
   "source": [
    "number = int(input(\"Enter the number\"))\n",
    "if number%2==0:\n",
    "    print(number, \"is an even number\")\n",
    "else:\n",
    "    print(number, \"is an odd number\")"
   ]
  },
  {
   "cell_type": "markdown",
   "id": "361ffdc9-9649-4d15-b890-5c79187beaaa",
   "metadata": {},
   "source": [
    "5.\tScenario: A text-processing tool reverses a given word or sentence for formatting purposes.\n",
    " Write logic to take a word or sentence as input and produce its reversed version."
   ]
  },
  {
   "cell_type": "code",
   "execution_count": 48,
   "id": "e5785900-329c-4f5d-90a8-030942d0e7a4",
   "metadata": {},
   "outputs": [
    {
     "name": "stdout",
     "output_type": "stream",
     "text": [
      "reenigne na si ehS"
     ]
    }
   ],
   "source": [
    "sentence = \"She is an engineer\"\n",
    "for each in sentence[::-1]:\n",
    "    print(each, end='')"
   ]
  },
  {
   "cell_type": "code",
   "execution_count": 2,
   "id": "83b204fc-790b-41f1-b24a-c21db60fdd3e",
   "metadata": {},
   "outputs": [
    {
     "name": "stdout",
     "output_type": "stream",
     "text": [
      "AI is World "
     ]
    }
   ],
   "source": [
    "sentence = \"World is AI\"\n",
    "words = sentence.split()\n",
    "for each in words[::-1]:\n",
    "    print(each, end=' ')"
   ]
  },
  {
   "cell_type": "markdown",
   "id": "994681fc-ed66-45ee-8c87-c2f75d62d95b",
   "metadata": {},
   "source": [
    "6.\tScenario: A grading system determines whether a student has passed or failed based on their score.\n",
    " Write logic to check if a student has passed a subject by scoring at least 40 marks."
   ]
  },
  {
   "cell_type": "code",
   "execution_count": 41,
   "id": "f0c892a3-cbd8-4cc9-b738-621661fc4252",
   "metadata": {},
   "outputs": [
    {
     "name": "stdin",
     "output_type": "stream",
     "text": [
      "Enter the student's score:  60\n"
     ]
    },
    {
     "name": "stdout",
     "output_type": "stream",
     "text": [
      "Pass\n"
     ]
    }
   ],
   "source": [
    "score = int(input(\"Enter the student's score: \"))\n",
    "\n",
    "if score >= 40:\n",
    "    print(\"Pass\")\n",
    "else:\n",
    "    print(\"Fail\")\n"
   ]
  },
  {
   "cell_type": "markdown",
   "id": "0f077d40-5df2-403b-b682-b4316c73cd93",
   "metadata": {},
   "source": [
    "7.\tScenario: A retail store offers a 20% discount if a customer’s total order exceeds $100. \n",
    "Write logic to calculate the final amount to be paid after applying the discount."
   ]
  },
  {
   "cell_type": "code",
   "execution_count": 3,
   "id": "4d9bfe63-2530-4b34-900b-a7610ece70a5",
   "metadata": {},
   "outputs": [
    {
     "name": "stdout",
     "output_type": "stream",
     "text": [
      "The final amount after applying discount is :  80.0\n"
     ]
    }
   ],
   "source": [
    "total = 100\n",
    "discount = 20\n",
    "discount_price = total * (discount/100)\n",
    "total = total-discount_price\n",
    "print(f\"The final amount after applying discount is : \", total)"
   ]
  },
  {
   "cell_type": "markdown",
   "id": "4563d101-8c24-4ea7-ae3e-0aec6948e59f",
   "metadata": {},
   "source": [
    "8.\tScenario: A banking system processes withdrawal requests and ensures the user has enough balance.\n",
    " Write logic to check if a user has enough balance before allowing a withdrawal and update the remaining balance accordingly."
   ]
  },
  {
   "cell_type": "code",
   "execution_count": 38,
   "id": "789ee0bb-0586-425d-a908-f956856ee963",
   "metadata": {},
   "outputs": [
    {
     "name": "stdout",
     "output_type": "stream",
     "text": [
      "Balance is 4500\n"
     ]
    }
   ],
   "source": [
    "balance = 5000\n",
    "withdrawal = 500\n",
    "if balance > withdrawal:\n",
    "    balance = balance - withdrawal\n",
    "    print(\"Balance is\", balance)\n",
    "else:\n",
    "    print(\"Balance is less than withdrawal amount\")\n",
    "    "
   ]
  },
  {
   "cell_type": "code",
   "execution_count": 36,
   "id": "3bf4a30f-5e61-48d8-8086-085844151e5b",
   "metadata": {},
   "outputs": [
    {
     "name": "stdout",
     "output_type": "stream",
     "text": [
      "4600\n",
      "6800\n"
     ]
    }
   ],
   "source": [
    "class Bank:\n",
    "    # def __init(self):\n",
    "    def Withdrawal(self, balance, withdrawal):\n",
    "        self.balance = balance\n",
    "        self.withdrawal = withdrawal\n",
    "        if self.balance > self.withdrawal:\n",
    "            self.balance = self.balance - self.withdrawal\n",
    "            return self.balance\n",
    "bob = Bank()\n",
    "res = bob.Withdrawal(5100,500)\n",
    "print(res)\n",
    "canada = Bank()\n",
    "res = canada.Withdrawal(8000, 1200)\n",
    "print(res)\n",
    "        "
   ]
  },
  {
   "cell_type": "markdown",
   "id": "ae56ade3-0188-4b0a-9e25-c15b63140a41",
   "metadata": {},
   "source": [
    "9.\tScenario: A calendar system verifies whether a given year is a leap year based on standard leap year rules.\n",
    " Write logic to determine whether a given year is a leap year."
   ]
  },
  {
   "cell_type": "code",
   "execution_count": 6,
   "id": "ed77d065-b32d-4402-9fbc-7055bad7a4e6",
   "metadata": {},
   "outputs": [
    {
     "name": "stdout",
     "output_type": "stream",
     "text": [
      "2000 is a leap year\n"
     ]
    }
   ],
   "source": [
    "year = 2000\n",
    "if (year %400 ==0):\n",
    "    print(year, \"is a leap year\")\n",
    "elif (year%4 ==0) and (year % 100 !=0):\n",
    "    print(year, \"is a leap year\")\n",
    "else:\n",
    "    print(year, \"Not a leap year\")"
   ]
  },
  {
   "cell_type": "markdown",
   "id": "d99846f4-c6c7-4860-940e-c1dc856bfc49",
   "metadata": {},
   "source": [
    "10.\tScenario: A program filters out only even numbers from a given list.\n",
    " Write logic to extract and return only the even numbers from a list."
   ]
  },
  {
   "cell_type": "code",
   "execution_count": 23,
   "id": "d6aad613-d7a6-49f1-8e80-d914767ea5c4",
   "metadata": {},
   "outputs": [
    {
     "name": "stdout",
     "output_type": "stream",
     "text": [
      "62\n",
      "50\n",
      "38\n"
     ]
    }
   ],
   "source": [
    "num_lst = [41,13,89,62, 50, 38, 99, 17]\n",
    "for number in num_lst:\n",
    "    if number%2==0:\n",
    "        print(number)\n"
   ]
  },
  {
   "cell_type": "code",
   "execution_count": null,
   "id": "b0f5856c-5690-4060-a7c7-4f8cd69468c9",
   "metadata": {},
   "outputs": [],
   "source": []
  }
 ],
 "metadata": {
  "kernelspec": {
   "display_name": "Python 3 (ipykernel)",
   "language": "python",
   "name": "python3"
  },
  "language_info": {
   "codemirror_mode": {
    "name": "ipython",
    "version": 3
   },
   "file_extension": ".py",
   "mimetype": "text/x-python",
   "name": "python",
   "nbconvert_exporter": "python",
   "pygments_lexer": "ipython3",
   "version": "3.12.7"
  }
 },
 "nbformat": 4,
 "nbformat_minor": 5
}

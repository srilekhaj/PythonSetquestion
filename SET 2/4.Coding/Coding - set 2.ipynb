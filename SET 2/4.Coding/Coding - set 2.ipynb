{
 "cells": [
  {
   "cell_type": "code",
   "execution_count": null,
   "id": "aba1475d",
   "metadata": {},
   "outputs": [],
   "source": [
    "1.Write a Python program to find the reverse of a string. Expected Output (for input \"hello\"):\n",
    "olleh\n"
   ]
  },
  {
   "cell_type": "code",
   "execution_count": 2,
   "id": "1b1e766e-3c81-4e2f-9757-6a2d8e3a64f6",
   "metadata": {},
   "outputs": [
    {
     "name": "stdout",
     "output_type": "stream",
     "text": [
      "olleh\n"
     ]
    }
   ],
   "source": [
    "#method1\n",
    "string = 'hello'\n",
    "print(string[::-1])"
   ]
  },
  {
   "cell_type": "code",
   "execution_count": 3,
   "id": "d82cf935-3b06-47b8-9d37-1b283c27ecd2",
   "metadata": {},
   "outputs": [
    {
     "name": "stdout",
     "output_type": "stream",
     "text": [
      "olleh\n"
     ]
    }
   ],
   "source": [
    "#method2\n",
    "rev=''\n",
    "for i in range(len(string)-1,-1,-1):\n",
    "    rev = rev+string[i]\n",
    "print(rev)\n",
    "    "
   ]
  },
  {
   "cell_type": "code",
   "execution_count": 4,
   "id": "faae676f-0798-4e2c-922f-62743e5782de",
   "metadata": {},
   "outputs": [
    {
     "name": "stdout",
     "output_type": "stream",
     "text": [
      "olleh\n"
     ]
    }
   ],
   "source": [
    "#method3\n",
    "rev = ''\n",
    "temp =  len(string)-1\n",
    "while temp >-1:\n",
    "    rev = rev + string[temp]\n",
    "    temp = temp -1\n",
    "print(rev)\n",
    "    "
   ]
  },
  {
   "cell_type": "code",
   "execution_count": null,
   "id": "5b1ec143",
   "metadata": {},
   "outputs": [],
   "source": [
    "2.Write a Python program to generate the Fibonacci sequence up to 10 terms.\n",
    "Expected Output:\n",
    "0 1 1 2 3 5 8 13 21 34\n"
   ]
  },
  {
   "cell_type": "code",
   "execution_count": 5,
   "id": "a943811d-4f96-4f9d-a23d-7ca0d441a24b",
   "metadata": {},
   "outputs": [
    {
     "name": "stdout",
     "output_type": "stream",
     "text": [
      "0\n",
      "1\n",
      "1\n",
      "2\n",
      "3\n",
      "5\n",
      "8\n",
      "13\n",
      "21\n",
      "34\n",
      "55\n",
      "89\n"
     ]
    }
   ],
   "source": [
    "num1 = 0\n",
    "num2 = 1\n",
    "print(num1,num2, sep='\\n')\n",
    "for i in range(10):\n",
    "    num3 = num1 + num2\n",
    "    num1 = num2\n",
    "    num2 = num3\n",
    "    \n",
    "    print(num3)"
   ]
  },
  {
   "cell_type": "code",
   "execution_count": null,
   "id": "c656f04a",
   "metadata": {},
   "outputs": [],
   "source": [
    "3.Write a Python function to check if a given string is a palindrome.\n",
    "Expected Output (for input \"madam\"):\n",
    "madam is a palindrome\n",
    "\n"
   ]
  },
  {
   "cell_type": "code",
   "execution_count": 6,
   "id": "fdc8aaed-be27-44d3-b458-8bd1924378e2",
   "metadata": {},
   "outputs": [
    {
     "name": "stdout",
     "output_type": "stream",
     "text": [
      "palindrome\n"
     ]
    }
   ],
   "source": [
    "string = 'madam'\n",
    "if string==string[::-1]:\n",
    "    print(\"palindrome\")\n",
    "else:\n",
    "    print(\"not a palindrome\")"
   ]
  },
  {
   "cell_type": "code",
   "execution_count": null,
   "id": "cd7b0a78",
   "metadata": {},
   "outputs": [],
   "source": [
    "4.Write a Python program to count the number of vowels in a given string. \n",
    "Expected Output (for input \"education\"):\n",
    "\n",
    "Number of vowels: 5\n"
   ]
  },
  {
   "cell_type": "code",
   "execution_count": 7,
   "id": "7078ec43-b6ba-4daf-a510-95bc815d8451",
   "metadata": {},
   "outputs": [
    {
     "name": "stdout",
     "output_type": "stream",
     "text": [
      "7\n"
     ]
    }
   ],
   "source": [
    "vowels = ['a', 'e', 'i', 'o', 'u']\n",
    "string = 'education is god'\n",
    "count=0\n",
    "for i in range(len(string)):\n",
    "    if string[i] in vowels:\n",
    "        count=count+1\n",
    "print(count)"
   ]
  },
  {
   "cell_type": "code",
   "execution_count": null,
   "id": "bdbb9b19",
   "metadata": {},
   "outputs": [],
   "source": [
    "5.Write a Python program to remove duplicates from a list.\n",
    "Expected Output (for input [1, 2, 2, 3, 4, 4, 5]):\n",
    "\n",
    "[1, 2, 3, 4, 5]\n"
   ]
  },
  {
   "cell_type": "code",
   "execution_count": 8,
   "id": "4d39b60e-2b04-4b77-8c34-16683c10aa5c",
   "metadata": {},
   "outputs": [
    {
     "name": "stdout",
     "output_type": "stream",
     "text": [
      "{1, 2, 3, 4, 5}\n",
      "[1, 2, 3, 4, 5]\n"
     ]
    }
   ],
   "source": [
    "#method1\n",
    "lst = [1, 2, 2, 3, 4, 4, 5]\n",
    "print(set(lst))\n",
    "print(list(set(lst)))"
   ]
  },
  {
   "cell_type": "code",
   "execution_count": 9,
   "id": "068d6da6-03f2-4f8f-b8eb-c4d932169efd",
   "metadata": {},
   "outputs": [
    {
     "name": "stdout",
     "output_type": "stream",
     "text": [
      "[1, 2, 3, 4, 5]\n"
     ]
    }
   ],
   "source": [
    "#method2\n",
    "lst1 = []\n",
    "for i in lst:\n",
    "    if i not in lst1:\n",
    "        lst1.append(i)\n",
    "print(lst1)\n",
    "        "
   ]
  },
  {
   "cell_type": "code",
   "execution_count": null,
   "id": "b993f01c-2d5a-4c99-973e-330db6d7ab4e",
   "metadata": {},
   "outputs": [],
   "source": []
  }
 ],
 "metadata": {
  "kernelspec": {
   "display_name": "Python 3 (ipykernel)",
   "language": "python",
   "name": "python3"
  },
  "language_info": {
   "codemirror_mode": {
    "name": "ipython",
    "version": 3
   },
   "file_extension": ".py",
   "mimetype": "text/x-python",
   "name": "python",
   "nbconvert_exporter": "python",
   "pygments_lexer": "ipython3",
   "version": "3.12.3"
  }
 },
 "nbformat": 4,
 "nbformat_minor": 5
}

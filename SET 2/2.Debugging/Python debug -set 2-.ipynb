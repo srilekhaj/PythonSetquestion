{
 "cells": [
  {
   "cell_type": "code",
   "execution_count": null,
   "id": "90e9fa4e",
   "metadata": {},
   "outputs": [],
   "source": [
    "#1.Find the error in the following Python code:\n",
    "import math\n",
    "print(Math.sqrt(16))\n"
   ]
  },
  {
   "cell_type": "markdown",
   "id": "b1dbc271-077d-4b59-a7c6-fff917ae2bd5",
   "metadata": {},
   "source": [
    "##### SYNTAX ERROR"
   ]
  },
  {
   "cell_type": "code",
   "execution_count": 1,
   "id": "965fce67-1191-4aa5-80f1-5b03c206e1e1",
   "metadata": {},
   "outputs": [
    {
     "name": "stdout",
     "output_type": "stream",
     "text": [
      "4.0\n"
     ]
    }
   ],
   "source": [
    "import math\n",
    "print(math.sqrt(16))"
   ]
  },
  {
   "cell_type": "code",
   "execution_count": null,
   "id": "55520fd2",
   "metadata": {},
   "outputs": [],
   "source": [
    "#2.Find the error in the following Python code:\n",
    "def my_function():\n",
    "    x += 5\n",
    "    print(x)\n",
    "\n",
    "x = 10\n",
    "my_function()\n"
   ]
  },
  {
   "cell_type": "markdown",
   "id": "670b6a24-0e3f-47ca-9f64-31185a5f37cf",
   "metadata": {},
   "source": [
    "##### TYPE ERROR"
   ]
  },
  {
   "cell_type": "code",
   "execution_count": 2,
   "id": "91d9100f-33f8-42b4-87cd-382bda72a252",
   "metadata": {},
   "outputs": [
    {
     "name": "stdout",
     "output_type": "stream",
     "text": [
      "15\n"
     ]
    }
   ],
   "source": [
    "#method1  x passing as global variable\n",
    "\n",
    "x = 10\n",
    "def my_function():\n",
    "    global x\n",
    "    x += 5\n",
    "    print(x)\n",
    "\n",
    "\n",
    "my_function()\n"
   ]
  },
  {
   "cell_type": "code",
   "execution_count": 3,
   "id": "6614d167-ae19-422e-acba-3b3502627980",
   "metadata": {},
   "outputs": [
    {
     "name": "stdout",
     "output_type": "stream",
     "text": [
      "15\n"
     ]
    }
   ],
   "source": [
    "#method2 passing x as an argument\n",
    "def my_function(x):\n",
    "    x += 5\n",
    "    print(x)\n",
    "\n",
    "x = 10\n",
    "my_function(x)"
   ]
  },
  {
   "cell_type": "code",
   "execution_count": null,
   "id": "f23899ca",
   "metadata": {},
   "outputs": [],
   "source": [
    "#3.x = 5\n",
    "if x = 10:\n",
    "    print(\"x is 10\")\n"
   ]
  },
  {
   "cell_type": "markdown",
   "id": "7180a631-cf48-4b80-8b09-e0f0dd2833ea",
   "metadata": {},
   "source": [
    "##### SYNTAX ERROR"
   ]
  },
  {
   "cell_type": "code",
   "execution_count": 4,
   "id": "139d76fb-d1ab-44c0-b72f-a0cefce4b82d",
   "metadata": {},
   "outputs": [
    {
     "name": "stdout",
     "output_type": "stream",
     "text": [
      "x is 10\n"
     ]
    }
   ],
   "source": [
    "#equality operator have to use\n",
    "if x == 10:\n",
    "    print(\"x is 10\")\n"
   ]
  },
  {
   "cell_type": "code",
   "execution_count": 5,
   "id": "c644c2f2",
   "metadata": {},
   "outputs": [
    {
     "name": "stdout",
     "output_type": "stream",
     "text": [
      "None\n"
     ]
    }
   ],
   "source": [
    "#4.\n",
    "numbers = [5, 3, 8, 2]\n",
    "print(numbers.sort())\n"
   ]
  },
  {
   "cell_type": "markdown",
   "id": "128c415d-e716-4804-8628-380c687eee85",
   "metadata": {},
   "source": [
    "numbers.sort() will sort the numbers in the original list itself\n",
    "and then print numbers will give the correct results.\n",
    "Directly printing numbers.sort()  will sort it but prints none"
   ]
  },
  {
   "cell_type": "code",
   "execution_count": 6,
   "id": "e940d3eb-afbd-44fb-9d0e-198e7ba156cd",
   "metadata": {},
   "outputs": [
    {
     "name": "stdout",
     "output_type": "stream",
     "text": [
      "[2, 3, 5, 8]\n"
     ]
    }
   ],
   "source": [
    "#4.\n",
    "numbers = [5, 3, 8, 2]\n",
    "numbers.sort()\n",
    "print(numbers)\n"
   ]
  },
  {
   "cell_type": "code",
   "execution_count": null,
   "id": "c6bc9bfb",
   "metadata": {},
   "outputs": [],
   "source": [
    "#5.\n",
    "def square(n):\n",
    "    n * n\n",
    "\n",
    "print(square(4))\n"
   ]
  },
  {
   "cell_type": "markdown",
   "id": "7821958c-2d6e-4b5e-b289-923c327e8d5a",
   "metadata": {},
   "source": [
    "##### SYNTAX ERROR\n",
    "return statement is missing"
   ]
  },
  {
   "cell_type": "code",
   "execution_count": 7,
   "id": "e292b350-3e15-4f5f-9ddf-4f427eef549d",
   "metadata": {},
   "outputs": [
    {
     "name": "stdout",
     "output_type": "stream",
     "text": [
      "16\n"
     ]
    }
   ],
   "source": [
    "#5.\n",
    "def square(n):\n",
    "    return n * n\n",
    "\n",
    "print(square(4))\n"
   ]
  },
  {
   "cell_type": "code",
   "execution_count": null,
   "id": "3a9dbcc0",
   "metadata": {},
   "outputs": [],
   "source": [
    "#6.\n",
    "my_tuple = (1, 2, 3)\n",
    "my_tuple[1] = 5\n"
   ]
  },
  {
   "cell_type": "markdown",
   "id": "c2f3b7cb-041c-43b4-b7d4-810b892cf5d4",
   "metadata": {},
   "source": [
    "cannot modify tuples\n",
    "converting into list and change the value and change to tuples"
   ]
  },
  {
   "cell_type": "code",
   "execution_count": 8,
   "id": "c9be2ebe-1a55-4e2e-a2e9-e7198090699e",
   "metadata": {},
   "outputs": [
    {
     "data": {
      "text/plain": [
       "(1, 5, 3)"
      ]
     },
     "execution_count": 8,
     "metadata": {},
     "output_type": "execute_result"
    }
   ],
   "source": [
    "#6.\n",
    "my_tuple = (1, 2, 3)\n",
    "my_tuple = list(my_tuple)\n",
    "my_tuple[1] = 5\n",
    "tuple(my_tuple)\n"
   ]
  },
  {
   "cell_type": "code",
   "execution_count": null,
   "id": "4a72685b",
   "metadata": {},
   "outputs": [],
   "source": [
    "#7.\n",
    "name = \"Alice\"\n",
    "age = 25\n",
    "print(\"My name is %s and I am %d years old\" % (name))\n"
   ]
  },
  {
   "cell_type": "markdown",
   "id": "aa184a67-4f12-42c8-acd4-4dae7c86ac42",
   "metadata": {},
   "source": [
    "##### TYPE ERROR"
   ]
  },
  {
   "cell_type": "code",
   "execution_count": 9,
   "id": "a907bd18-5138-4800-8331-c09d03ff576d",
   "metadata": {},
   "outputs": [
    {
     "name": "stdout",
     "output_type": "stream",
     "text": [
      "My name is Alice and I am 25 years old\n"
     ]
    }
   ],
   "source": [
    "#7. arguments are missing as compared with formatstrings \n",
    "name = \"Alice\"\n",
    "age = 25\n",
    "print(\"My name is %s and I am %d years old\" % (name,age))\n"
   ]
  },
  {
   "cell_type": "code",
   "execution_count": null,
   "id": "3de969fe",
   "metadata": {},
   "outputs": [],
   "source": [
    "#8.\n",
    "a = [1, 2, 3]\n",
    "b = [1, 2, 3]\n",
    "if a is b:\n",
    "    print(\"Lists are equal\")\n"
   ]
  },
  {
   "cell_type": "markdown",
   "id": "b28aa6a7-22d3-43dd-af60-44b5d11aace8",
   "metadata": {},
   "source": [
    "| Operator | Checks for...                 | In this case |\n",
    "| -------- | ----------------------------- | ------------ |\n",
    "| `==`     | Value equality                | ✅ True      |\n",
    "| `is`     | Object identity (same memory) | ❌ False     |\n",
    "\n",
    "a is b will check for the object name same or diff. \n",
    "a == b only will check for content /values"
   ]
  },
  {
   "cell_type": "code",
   "execution_count": null,
   "id": "dbe38465",
   "metadata": {},
   "outputs": [],
   "source": [
    "#9.\n",
    "for i in range(5, 1):\n",
    "    print(i)\n"
   ]
  },
  {
   "cell_type": "markdown",
   "id": "980a6e12-7b32-4d6a-8ba8-5e7cd6460eb4",
   "metadata": {},
   "source": [
    "the starting number is greater, and ending number is smaller there is no meaning in incrementing it wont print nothing "
   ]
  },
  {
   "cell_type": "code",
   "execution_count": 10,
   "id": "eea16021-576e-45a1-bdef-87b499edf14c",
   "metadata": {},
   "outputs": [
    {
     "name": "stdout",
     "output_type": "stream",
     "text": [
      "5\n",
      "4\n",
      "3\n",
      "2\n"
     ]
    }
   ],
   "source": [
    "#9.\n",
    "for i in range(5, 1, -1):\n",
    "    print(i)\n"
   ]
  },
  {
   "cell_type": "code",
   "execution_count": null,
   "id": "30cb0523",
   "metadata": {},
   "outputs": [],
   "source": [
    "#10.\n",
    "student = {\"name\": \"John\", \"age\": 20}\n",
    "print(student[name])\n"
   ]
  },
  {
   "cell_type": "markdown",
   "id": "cd2996d0-dfc6-4e73-8f55-96658b7a74e8",
   "metadata": {},
   "source": [
    "dicitionary keys must be access as a  string"
   ]
  },
  {
   "cell_type": "code",
   "execution_count": 11,
   "id": "b29a429d-e945-4406-83dd-cbebdbf43733",
   "metadata": {},
   "outputs": [
    {
     "name": "stdout",
     "output_type": "stream",
     "text": [
      "John\n"
     ]
    }
   ],
   "source": [
    "#10.\n",
    "student = {\"name\": \"John\", \"age\": 20}\n",
    "print(student['name'])\n"
   ]
  },
  {
   "cell_type": "code",
   "execution_count": null,
   "id": "1547906d-db05-4537-95a5-eb170da72b21",
   "metadata": {},
   "outputs": [],
   "source": []
  }
 ],
 "metadata": {
  "kernelspec": {
   "display_name": "Python 3 (ipykernel)",
   "language": "python",
   "name": "python3"
  },
  "language_info": {
   "codemirror_mode": {
    "name": "ipython",
    "version": 3
   },
   "file_extension": ".py",
   "mimetype": "text/x-python",
   "name": "python",
   "nbconvert_exporter": "python",
   "pygments_lexer": "ipython3",
   "version": "3.12.3"
  }
 },
 "nbformat": 4,
 "nbformat_minor": 5
}

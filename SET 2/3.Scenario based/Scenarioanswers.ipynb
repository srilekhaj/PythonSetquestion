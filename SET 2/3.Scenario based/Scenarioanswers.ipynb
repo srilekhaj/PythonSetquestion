{
 "cells": [
  {
   "cell_type": "markdown",
   "id": "0b08b0c7-65ab-47eb-af18-836b09fad190",
   "metadata": {},
   "source": [
    "1.\tScenario: You are developing a banking application that categorizes transactions based on the amount entered.\n",
    " Write logic to determine whether the amount is positive, negative, or zero."
   ]
  },
  {
   "cell_type": "code",
   "execution_count": null,
   "id": "5e5bbc2f-eef8-4c99-a710-381cc7fca9cd",
   "metadata": {},
   "outputs": [],
   "source": []
  },
  {
   "cell_type": "markdown",
   "id": "68a5fad5-579a-47bc-9283-332e6de04c8f",
   "metadata": {},
   "source": [
    "2.\tScenario: A digital locker requires users to enter a numerical passcode. As part of a security feature, the system checks the sum of the digits of the passcode.\n",
    " Write logic to compute the sum of the digits of a given number."
   ]
  },
  {
   "cell_type": "code",
   "execution_count": null,
   "id": "ed67c056-c700-43b9-b3da-1a518dd977b2",
   "metadata": {},
   "outputs": [],
   "source": []
  },
  {
   "cell_type": "markdown",
   "id": "914dfa8d-b54d-46b4-8c69-36ce493da120",
   "metadata": {},
   "source": [
    "3.\tScenario: A mobile payment app uses a simple checksum validation where reversing a transaction ID helps detect fraud.\n",
    " Write logic to take a number and return its reverse."
   ]
  },
  {
   "cell_type": "code",
   "execution_count": null,
   "id": "b09f2cb3-a41f-4833-a831-e5e5b7cac39c",
   "metadata": {},
   "outputs": [],
   "source": []
  },
  {
   "cell_type": "markdown",
   "id": "ca0c6ed4-b309-45f2-adab-e29a0f3869c6",
   "metadata": {},
   "source": [
    "4.\tScenario: In a secure login system, certain features are enabled only for users with prime-numbered user IDs.\n",
    " Write logic to check if a given number is prime."
   ]
  },
  {
   "cell_type": "code",
   "execution_count": null,
   "id": "9934d1ec-51a2-430e-8607-363dca15911b",
   "metadata": {},
   "outputs": [],
   "source": []
  },
  {
   "cell_type": "markdown",
   "id": "88aec699-6a85-431b-8824-933fc9a52030",
   "metadata": {},
   "source": [
    "5.\tScenario: A scientist is working on permutations and needs to calculate the factorial of numbers frequently.\n",
    " Write logic to find the factorial of a given number using recursion."
   ]
  },
  {
   "cell_type": "code",
   "execution_count": null,
   "id": "48b92d57-acba-4f16-8d1f-bd47ea475fe7",
   "metadata": {},
   "outputs": [],
   "source": []
  },
  {
   "cell_type": "markdown",
   "id": "d3d30a5c-4b24-406c-b14a-9835a2674bc8",
   "metadata": {},
   "source": [
    "6.\tScenario: A unique lottery system assigns ticket numbers where only Armstrong numbers win the jackpot.\n",
    " Write logic to check whether a given number is an Armstrong number."
   ]
  },
  {
   "cell_type": "code",
   "execution_count": 16,
   "id": "15b9f8c1-c967-4654-b180-1c9d1b9a17b8",
   "metadata": {},
   "outputs": [
    {
     "name": "stdout",
     "output_type": "stream",
     "text": [
      "153 0 153\n",
      "armstrong\n"
     ]
    }
   ],
   "source": [
    "n = 153\n",
    "# temp = n\n",
    "temp_copy = n\n",
    "#no of digits\n",
    "\n",
    "def counts(num):\n",
    "    count = 0\n",
    "    while (num>0):\n",
    "        num = num//10\n",
    "        count = count +1\n",
    "    return count\n",
    "    # print(\"count \", count)\n",
    "\n",
    "#arm strong\n",
    "res = 0\n",
    "digits = counts(n)\n",
    "while (temp_copy > 0):\n",
    "    rem = temp_copy % 10\n",
    "    arm = rem ** digits\n",
    "    res = res + arm\n",
    "    temp_copy = temp_copy // 10\n",
    "\n",
    "print(temp, temp_copy, res)\n",
    "if (n == res):\n",
    "    print(\"armstrong\")\n",
    "else:\n",
    "    print(\"not an armstrong\")\n",
    "    "
   ]
  },
  {
   "cell_type": "code",
   "execution_count": 19,
   "id": "dd8436c5-18bf-4640-bdbe-0d9c14980977",
   "metadata": {},
   "outputs": [
    {
     "name": "stdout",
     "output_type": "stream",
     "text": [
      "oellh\n"
     ]
    }
   ],
   "source": [
    "s='hello'\n",
    "l = len(s)-1\n",
    "print(s[l]+s[1:l]+s[0])"
   ]
  },
  {
   "cell_type": "markdown",
   "id": "ff8effd2-012b-40cc-9a7f-53dd705774f9",
   "metadata": {},
   "source": [
    "7.\tScenario: A password manager needs to strengthen weak passwords by swapping the first and last characters of user-generated passwords.\n",
    " Write logic to perform this operation on a given string."
   ]
  },
  {
   "cell_type": "code",
   "execution_count": null,
   "id": "2db1bb1b-c274-4af1-8fb7-aa5c529d7c9e",
   "metadata": {},
   "outputs": [],
   "source": []
  },
  {
   "cell_type": "markdown",
   "id": "392cbf2a-60ac-406a-9cf5-ab59f877c716",
   "metadata": {},
   "source": [
    "8.\tScenario: A low-level networking application requires decimal numbers to be converted into binary format before transmission.\n",
    " Write logic to convert a given decimal number into its binary equivalent."
   ]
  },
  {
   "cell_type": "code",
   "execution_count": 24,
   "id": "dba3b2f7-3193-4a8c-9422-83c9e68d817d",
   "metadata": {},
   "outputs": [
    {
     "name": "stdout",
     "output_type": "stream",
     "text": [
      "0001111\n",
      "1111000\n"
     ]
    }
   ],
   "source": [
    "n = 120\n",
    "res = ''\n",
    "while(n>0):\n",
    "    res = res + str(n%2)\n",
    "    n = n //2\n",
    "print(res)\n",
    "print(res[::-1])\n"
   ]
  },
  {
   "cell_type": "markdown",
   "id": "c3423680-2a05-4489-8853-3dbfc08c99e9",
   "metadata": {},
   "source": [
    "9.\tScenario: A text-processing tool helps summarize articles by identifying the most significant words.\n",
    " Write logic to find the longest word in a sentence."
   ]
  },
  {
   "cell_type": "code",
   "execution_count": null,
   "id": "169dbe46-c26c-4df5-ab2c-fdedda8099ba",
   "metadata": {},
   "outputs": [],
   "source": []
  },
  {
   "cell_type": "markdown",
   "id": "7ca1de52-c4ba-4306-ae6a-0f6775d2ec38",
   "metadata": {},
   "source": [
    "10.\tScenario: A plagiarism detection tool compares words from different documents and checks if they are anagrams (same characters but different order).\n",
    " Write logic to check whether two given strings are anagrams."
   ]
  },
  {
   "cell_type": "code",
   "execution_count": null,
   "id": "17a87da2-e925-4827-956c-417591d7063a",
   "metadata": {},
   "outputs": [],
   "source": []
  }
 ],
 "metadata": {
  "kernelspec": {
   "display_name": "Python 3 (ipykernel)",
   "language": "python",
   "name": "python3"
  },
  "language_info": {
   "codemirror_mode": {
    "name": "ipython",
    "version": 3
   },
   "file_extension": ".py",
   "mimetype": "text/x-python",
   "name": "python",
   "nbconvert_exporter": "python",
   "pygments_lexer": "ipython3",
   "version": "3.12.3"
  }
 },
 "nbformat": 4,
 "nbformat_minor": 5
}

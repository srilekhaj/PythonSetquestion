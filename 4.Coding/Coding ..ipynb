{
 "cells": [
  {
   "cell_type": "code",
   "execution_count": null,
   "id": "5fd5c475",
   "metadata": {},
   "outputs": [],
   "source": [
    "1.Write a Python program that prints numbers from 1 to 5.\n",
    "Expected Output:\n",
    "1 2 3 4 5\n"
   ]
  },
  {
   "cell_type": "code",
   "execution_count": 9,
   "id": "81b310ab-dfd0-4afc-bdef-de112d888f51",
   "metadata": {},
   "outputs": [
    {
     "name": "stdout",
     "output_type": "stream",
     "text": [
      "using while loop\n",
      "1 2 3 4 5 \n",
      "using for loop\n",
      "1 2 3 4 5 "
     ]
    }
   ],
   "source": [
    "print(\"using while loop\")\n",
    "i = 1\n",
    "while i<=5:\n",
    "    print(i, end=' ')\n",
    "    i=i+1\n",
    "    \n",
    "print(\"\\nusing for loop\")\n",
    "n=6\n",
    "for i in range(1,n):\n",
    "    print(i, end=' ')"
   ]
  },
  {
   "cell_type": "code",
   "execution_count": null,
   "id": "3c8bc472",
   "metadata": {},
   "outputs": [],
   "source": [
    "2.Write a Python program to print the first 5 even numbers. Expected Output:\n",
    "2 4 6 8 10\n",
    "\n"
   ]
  },
  {
   "cell_type": "code",
   "execution_count": 12,
   "id": "c2824293-ad21-4a83-9908-a87ef5fff758",
   "metadata": {},
   "outputs": [
    {
     "name": "stdout",
     "output_type": "stream",
     "text": [
      "2 4 6 8 10 "
     ]
    }
   ],
   "source": [
    "for i in range(1,11):\n",
    "    if i%2==0:\n",
    "        print(i, end=' ')"
   ]
  },
  {
   "cell_type": "code",
   "execution_count": null,
   "id": "5e7af211",
   "metadata": {},
   "outputs": [],
   "source": [
    "3.Write a Python program to print the sum of numbers from 1 to 10. \n",
    "Expected Output:55\n"
   ]
  },
  {
   "cell_type": "code",
   "execution_count": 20,
   "id": "aa5a18bc-c7f0-4e4f-b235-a8540713b3fb",
   "metadata": {},
   "outputs": [
    {
     "name": "stdout",
     "output_type": "stream",
     "text": [
      "1\n",
      "3\n",
      "6\n",
      "10\n",
      "15\n",
      "21\n",
      "28\n",
      "36\n",
      "45\n",
      "55\n"
     ]
    }
   ],
   "source": [
    "sums = 0\n",
    "for i in range(1,11):\n",
    "    sums=sums+i\n",
    "    print(sums)"
   ]
  },
  {
   "cell_type": "code",
   "execution_count": 25,
   "id": "7cba61d5-413e-4d3b-84d7-3dc43c3c55f4",
   "metadata": {},
   "outputs": [
    {
     "name": "stdout",
     "output_type": "stream",
     "text": [
      "55\n"
     ]
    }
   ],
   "source": [
    "i=0\n",
    "sums=0\n",
    "while i <=10:\n",
    "    # print(i)\n",
    "    sums = sums+i\n",
    "    i=i+1\n",
    "print(sums)"
   ]
  },
  {
   "cell_type": "code",
   "execution_count": null,
   "id": "ac09aa1a",
   "metadata": {},
   "outputs": [],
   "source": [
    "4.Write a Python function to find the factorial of 5.\n",
    "Expected Output:\n",
    "120\n",
    "\n",
    "5 4 3 2 1 = 120"
   ]
  },
  {
   "cell_type": "code",
   "execution_count": 27,
   "id": "9a138bd3-c668-42e2-a6cf-8cc2814706b2",
   "metadata": {},
   "outputs": [
    {
     "name": "stdout",
     "output_type": "stream",
     "text": [
      "120\n"
     ]
    }
   ],
   "source": [
    "fact=1\n",
    "for i in range(5,0,-1):\n",
    "    fact = fact *i\n",
    "print(mul)"
   ]
  },
  {
   "cell_type": "code",
   "execution_count": 29,
   "id": "6a38319f-a60f-4cf5-8f86-9fb14a8c6fec",
   "metadata": {},
   "outputs": [
    {
     "name": "stdout",
     "output_type": "stream",
     "text": [
      "120\n"
     ]
    }
   ],
   "source": [
    "fact=1\n",
    "i,n  = 1,5\n",
    "while i <=n:\n",
    "    fact = fact*i\n",
    "    i=i+1\n",
    "print(fact)\n",
    "    "
   ]
  },
  {
   "cell_type": "code",
   "execution_count": null,
   "id": "8ab9fc8a",
   "metadata": {},
   "outputs": [],
   "source": [
    "5.Write a Python program to check if a number is prime. \n",
    "Expected Output (for input 7):\n",
    "7 is a prime number\n",
    "\n"
   ]
  },
  {
   "cell_type": "code",
   "execution_count": 38,
   "id": "5bfef30a-aad9-4803-b74a-8869470c20dc",
   "metadata": {},
   "outputs": [
    {
     "name": "stdout",
     "output_type": "stream",
     "text": [
      "2 15\n",
      "3 15\n",
      " 15 is Not\n"
     ]
    }
   ],
   "source": [
    "Number=15\n",
    "count =0\n",
    "for i in range(2,  Number ): #(Number//2 + 1)): #2 3 4 5 \n",
    "    print(i, Number)\n",
    "    if(Number % i == 0):\n",
    "        count = count + 1\n",
    "        break\n",
    "\n",
    "if (count == 0 and Number != 1):\n",
    "    print(\" %d is a Prime\" %Number)\n",
    "else:\n",
    "    print(\" %d is Not\" %Number)"
   ]
  },
  {
   "cell_type": "markdown",
   "id": "dc063149-5957-4a22-9d9f-b3bf5ecf08fb",
   "metadata": {},
   "source": []
  },
  {
   "cell_type": "code",
   "execution_count": null,
   "id": "8ac15a69-3d41-4f7d-bbef-c349d34d1e2d",
   "metadata": {},
   "outputs": [],
   "source": []
  }
 ],
 "metadata": {
  "kernelspec": {
   "display_name": "Python 3 (ipykernel)",
   "language": "python",
   "name": "python3"
  },
  "language_info": {
   "codemirror_mode": {
    "name": "ipython",
    "version": 3
   },
   "file_extension": ".py",
   "mimetype": "text/x-python",
   "name": "python",
   "nbconvert_exporter": "python",
   "pygments_lexer": "ipython3",
   "version": "3.12.7"
  }
 },
 "nbformat": 4,
 "nbformat_minor": 5
}

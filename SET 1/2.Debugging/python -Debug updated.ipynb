{
 "cells": [
  {
   "cell_type": "code",
   "execution_count": null,
   "id": "8e02775a",
   "metadata": {},
   "outputs": [],
   "source": [
    "#1.Find the error in the following Python code:\n",
    "\n",
    " for i in range(5)\n",
    "    print(i)\n",
    "    "
   ]
  },
  {
   "cell_type": "markdown",
   "id": "bfa718bc-c1ca-4c87-84d8-8de41eead90f",
   "metadata": {},
   "source": [
    "##### SYNTAX ERROR\n",
    "semicolon is missing "
   ]
  },
  {
   "cell_type": "code",
   "execution_count": 1,
   "id": "af3f047e-f30b-4b53-8fe8-10434106cce7",
   "metadata": {},
   "outputs": [
    {
     "name": "stdout",
     "output_type": "stream",
     "text": [
      "0\n",
      "1\n",
      "2\n",
      "3\n",
      "4\n"
     ]
    }
   ],
   "source": [
    "#Semicolon is missing:\n",
    "for i in range(5):\n",
    "    print(i)"
   ]
  },
  {
   "cell_type": "code",
   "execution_count": null,
   "id": "df3cee51",
   "metadata": {},
   "outputs": [],
   "source": [
    "#2.What will be the output of this code?\n",
    "\n",
    "a = 10\n",
    "b = \"5\"\n",
    "print(a + b)\n",
    " "
   ]
  },
  {
   "cell_type": "markdown",
   "id": "d7df9822-1795-448c-a198-46a02dc2cf87",
   "metadata": {},
   "source": [
    "##### TypeError: unsupported operand type(s) for +: 'int' and 'str'  \n",
    "print(10+'5')"
   ]
  },
  {
   "cell_type": "code",
   "execution_count": null,
   "id": "15c2e7b2",
   "metadata": {},
   "outputs": [],
   "source": [
    "#3.What is the issue in this Python snippet?\n",
    "\n",
    " def add_numbers(a, b)\n",
    "    return a + b\n"
   ]
  },
  {
   "cell_type": "markdown",
   "id": "351b4839-b99e-4139-868a-8e561e6007df",
   "metadata": {},
   "source": [
    "##### SYNTAX ERROR\n",
    "semicolon is missing. \n",
    "    Function has not called so it wont excute "
   ]
  },
  {
   "cell_type": "code",
   "execution_count": 2,
   "id": "ff932987-a446-4954-bf84-52acbd6067bd",
   "metadata": {},
   "outputs": [
    {
     "data": {
      "text/plain": [
       "30"
      ]
     },
     "execution_count": 2,
     "metadata": {},
     "output_type": "execute_result"
    }
   ],
   "source": [
    "def add_numbers(a, b):\n",
    "    return a + b\n",
    "\n",
    "add_numbers(10,20)"
   ]
  },
  {
   "cell_type": "code",
   "execution_count": null,
   "id": "8303d673-941c-4d66-b6b3-62e7884262ee",
   "metadata": {},
   "outputs": [],
   "source": []
  },
  {
   "cell_type": "code",
   "execution_count": null,
   "id": "2f8e5efd",
   "metadata": {},
   "outputs": [],
   "source": [
    "\n",
    "#4.Identify the bug in the following Python code:\n",
    "\n",
    "numbers = [1, 2, 3, 4]\n",
    "print(numbers[4])\n"
   ]
  },
  {
   "cell_type": "markdown",
   "id": "9d5b5e6a-4d16-47b6-b53a-94858d87bf50",
   "metadata": {},
   "source": [
    "##### list index out of range error"
   ]
  },
  {
   "cell_type": "code",
   "execution_count": null,
   "id": "6e990950-8a6d-45ab-b777-c0ee639e77d6",
   "metadata": {},
   "outputs": [],
   "source": []
  },
  {
   "cell_type": "code",
   "execution_count": 3,
   "id": "bc0080c1",
   "metadata": {},
   "outputs": [
    {
     "ename": "SyntaxError",
     "evalue": "Missing parentheses in call to 'print'. Did you mean print(...)? (2141204461.py, line 2)",
     "output_type": "error",
     "traceback": [
      "\u001b[1;36m  Cell \u001b[1;32mIn[3], line 2\u001b[1;36m\u001b[0m\n\u001b[1;33m    print \"Hello, World!\"\u001b[0m\n\u001b[1;37m    ^\u001b[0m\n\u001b[1;31mSyntaxError\u001b[0m\u001b[1;31m:\u001b[0m Missing parentheses in call to 'print'. Did you mean print(...)?\n"
     ]
    }
   ],
   "source": [
    "#5.Find the error in the following Python code:\n",
    "print \"Hello, World!\""
   ]
  },
  {
   "cell_type": "markdown",
   "id": "6b28b155-b707-48f2-9014-0c419363d3a2",
   "metadata": {},
   "source": [
    "##### () paranthesis missing in print statement"
   ]
  },
  {
   "cell_type": "code",
   "execution_count": null,
   "id": "59709165-4c20-4396-8928-b8e1f021bfdb",
   "metadata": {},
   "outputs": [],
   "source": []
  },
  {
   "cell_type": "code",
   "execution_count": null,
   "id": "5b449ecb",
   "metadata": {},
   "outputs": [],
   "source": [
    "#6.Find the error in the following Python code:\n",
    "x = 5 / 0\n"
   ]
  },
  {
   "cell_type": "markdown",
   "id": "06fd7566-d164-49f8-bab3-a05eb0e6eb6e",
   "metadata": {},
   "source": [
    "##### divide by zero error"
   ]
  },
  {
   "cell_type": "code",
   "execution_count": null,
   "id": "0e2f5143-4723-4729-976d-734c10598255",
   "metadata": {},
   "outputs": [],
   "source": []
  },
  {
   "cell_type": "code",
   "execution_count": null,
   "id": "79260565",
   "metadata": {},
   "outputs": [],
   "source": [
    "#7.Find the error in the following Python code:\n",
    "name = \"Alice\"\n",
    "age = 25\n",
    "print(\"Name: \" + name + \", Age: \" + age)\n"
   ]
  },
  {
   "cell_type": "markdown",
   "id": "c64e0872-125b-4104-a34a-09eebc952843",
   "metadata": {},
   "source": [
    "##### cannot concatenate stringdatatype  with int datatype"
   ]
  },
  {
   "cell_type": "code",
   "execution_count": null,
   "id": "c4ed54f9-b12d-4dcf-ad7a-9a99a8c84bc4",
   "metadata": {},
   "outputs": [],
   "source": []
  },
  {
   "cell_type": "code",
   "execution_count": null,
   "id": "3e4b6f3b",
   "metadata": {},
   "outputs": [],
   "source": [
    "#8.Find the error\n",
    "for i in range(1, 10, -1):\n",
    "    print(i)\n"
   ]
  },
  {
   "cell_type": "markdown",
   "id": "a0069a63-abb4-47fd-99f9-547732946933",
   "metadata": {},
   "source": [
    "##### starting from reverse will not print anything\n"
   ]
  },
  {
   "cell_type": "code",
   "execution_count": 4,
   "id": "5b5c5448-94f7-4041-a2d4-e6863834a5ec",
   "metadata": {},
   "outputs": [
    {
     "name": "stdout",
     "output_type": "stream",
     "text": [
      "1\n",
      "2\n",
      "3\n",
      "4\n",
      "5\n",
      "6\n",
      "7\n",
      "8\n",
      "9\n"
     ]
    }
   ],
   "source": [
    "\n",
    "for i in range(1,10, 1):\n",
    "    print(i)\n"
   ]
  },
  {
   "cell_type": "code",
   "execution_count": null,
   "id": "b6b24376-acf1-41b0-88e3-fd6e788321f1",
   "metadata": {},
   "outputs": [],
   "source": []
  },
  {
   "cell_type": "code",
   "execution_count": null,
   "id": "95976c4d",
   "metadata": {},
   "outputs": [],
   "source": [
    "#9. Find the error in the following Python code:\n",
    "x = 10\n",
    "if x = 5:\n",
    "    print(\"x is 5\")\n"
   ]
  },
  {
   "cell_type": "markdown",
   "id": "7d2ae6c7-5a24-472b-8a96-1e526643d142",
   "metadata": {},
   "source": [
    "== missing in condition, \n",
    "equality operator is missing, \n",
    "x == 5 but they given as assigning x to 5 x=5 in if statement which is wrong"
   ]
  },
  {
   "cell_type": "code",
   "execution_count": null,
   "id": "9a0d0808-6fe5-4751-ae69-23591e261a19",
   "metadata": {},
   "outputs": [],
   "source": []
  },
  {
   "cell_type": "code",
   "execution_count": null,
   "id": "317eca50",
   "metadata": {},
   "outputs": [],
   "source": [
    "#10. Identify the error in the following function definition:\n",
    "\n",
    "def greet(name)\n",
    "    print(\"Hello, \" + name)\n",
    "\n"
   ]
  },
  {
   "cell_type": "markdown",
   "id": "48ee54b2-0292-47d2-8c8f-bc8236e087a7",
   "metadata": {},
   "source": [
    "##### SYNTAX ERROR\n",
    "name is not defined\n",
    "semicolon is missing\n",
    "function is not call so wont execute\n"
   ]
  },
  {
   "cell_type": "code",
   "execution_count": 6,
   "id": "1cc53929-933c-4356-95f5-fe8671629948",
   "metadata": {},
   "outputs": [
    {
     "name": "stdout",
     "output_type": "stream",
     "text": [
      "Hello, sarala\n"
     ]
    }
   ],
   "source": [
    "\n",
    "def greet(name):\n",
    "    print(\"Hello, \" + name)\n",
    "\n",
    "greet('sarala')"
   ]
  },
  {
   "cell_type": "code",
   "execution_count": null,
   "id": "d17815fe-4cc3-4365-813b-decbaa611724",
   "metadata": {},
   "outputs": [],
   "source": []
  },
  {
   "cell_type": "code",
   "execution_count": null,
   "id": "b10f261e-5683-4256-acd9-3c42dcbe55ec",
   "metadata": {},
   "outputs": [],
   "source": []
  }
 ],
 "metadata": {
  "kernelspec": {
   "display_name": "Python 3 (ipykernel)",
   "language": "python",
   "name": "python3"
  },
  "language_info": {
   "codemirror_mode": {
    "name": "ipython",
    "version": 3
   },
   "file_extension": ".py",
   "mimetype": "text/x-python",
   "name": "python",
   "nbconvert_exporter": "python",
   "pygments_lexer": "ipython3",
   "version": "3.12.3"
  }
 },
 "nbformat": 4,
 "nbformat_minor": 5
}
